{
 "cells": [
  {
   "cell_type": "code",
   "execution_count": 6,
   "metadata": {
    "collapsed": false
   },
   "outputs": [
    {
     "name": "stdout",
     "output_type": "stream",
     "text": [
      "Using local development versions of packages\n"
     ]
    }
   ],
   "source": [
    "try:\n",
    "    import rickpy\n",
    "    rickpy.use_dev_packages(['rickpy','scidash/sciunit','scidash/neuronunit','neuroml/pyNeuroML'])\n",
    "    import imp\n",
    "    imp.reload(rickpy)\n",
    "    print(\"Using local development versions of packages\")\n",
    "except ImportError:\n",
    "    print(\"Using packages from system path\")"
   ]
  },
  {
   "cell_type": "code",
   "execution_count": 7,
   "metadata": {
    "collapsed": false
   },
   "outputs": [],
   "source": [
    "%matplotlib notebook\n",
    "import os,sys\n",
    "import numpy as np\n",
    "import matplotlib.pyplot as plt\n",
    "import quantities as pq\n",
    "import sciunit\n",
    "import neuronunit\n",
    "from neuronunit import aibs\n",
    "#from neuronunit.models.reduced import ReducedModel\n",
    "from pyneuroml import pynml\n",
    "\n",
    "import pdb"
   ]
  },
  {
   "cell_type": "code",
   "execution_count": 8,
   "metadata": {
    "collapsed": false
   },
   "outputs": [
    {
     "name": "stdout",
     "output_type": "stream",
     "text": [
      "c\n",
      "a\n",
      "pyNeuroML >>> Loading LEMS file: /home/mnt/NeuroML2/LEMS_2007One.xml and running with jNeuroML_NEURON\n",
      "pyNeuroML >>> Executing: (java -Xmx400M  -jar  \"/opt/conda/lib/python3.5/site-packages/pyNeuroML-0.2.2-py3.5.egg/pyneuroml/lib/jNeuroML-0.8.0-jar-with-dependencies.jar\"  \"/home/mnt/NeuroML2/LEMS_2007One.xml\"  -neuron) in directory: .\n",
      "pyNeuroML >>> Command completed. Output: \n",
      "pyNeuroML >>>   jNeuroML >>   jNeuroML v0.8.0\n",
      "pyNeuroML >>>   jNeuroML >>  (INFO) Reading from: /home/mnt/NeuroML2/LEMS_2007One.xml\n",
      "pyNeuroML >>>   jNeuroML >>  (INFO) Creating NeuronWriter for LEMS_2007One_nrn.py\n",
      "pyNeuroML >>>   jNeuroML >>  (INFO) Adding simulation Component(id=sim1 type=Simulation) of network/component: net1 (Type: network)\n",
      "pyNeuroML >>>   jNeuroML >>  (INFO) Adding population: RS_pop\n",
      "pyNeuroML >>>   jNeuroML >>  (INFO) -- Writing to mod: /home/mnt/NeuroML2/RS.mod\n",
      "pyNeuroML >>>   jNeuroML >>  (INFO) File /home/mnt/NeuroML2/RS.mod exists and is identical\n",
      "pyNeuroML >>>   jNeuroML >>  (INFO) Adding projections/connections...\n",
      "pyNeuroML >>>   jNeuroML >>  (INFO) -- Writing to mod: /home/mnt/NeuroML2/RS_Iext.mod\n",
      "pyNeuroML >>>   jNeuroML >>  (INFO) File /home/mnt/NeuroML2/RS_Iext.mod exists and is identical\n",
      "pyNeuroML >>>   jNeuroML >>  \n",
      "b\n",
      "Mechanisms already loaded from path: /home/mnt/NeuroML2.  Aborting.\n",
      "\n",
      "    Starting simulation in NEURON generated from NeuroML2 model...\n",
      "\n",
      "Population RS_pop contains 1 instance(s) of component: RS of type: izhikevich2007Cell\n",
      "> <ipython-input-8-c0b7db0666ab>(47)update_nrn_param()\n",
      "-> for key, value in items:\n",
      "(Pdb) c\n",
      "> <ipython-input-8-c0b7db0666ab>(50)update_nrn_param()\n",
      "-> evalstring='neuron.hoc.execute(\"m_RS_RS_pop[0].'+str(key)+'='+str(value)+'\")'\n",
      "(Pdb) c\n",
      "> <ipython-input-8-c0b7db0666ab>(47)update_nrn_param()\n",
      "-> for key, value in items:\n",
      "(Pdb) c\n",
      "> <ipython-input-8-c0b7db0666ab>(50)update_nrn_param()\n",
      "-> evalstring='neuron.hoc.execute(\"m_RS_RS_pop[0].'+str(key)+'='+str(value)+'\")'\n",
      "(Pdb) c\n",
      "> <ipython-input-8-c0b7db0666ab>(47)update_nrn_param()\n",
      "-> for key, value in items:\n",
      "(Pdb) c\n",
      "> <ipython-input-8-c0b7db0666ab>(50)update_nrn_param()\n",
      "-> evalstring='neuron.hoc.execute(\"m_RS_RS_pop[0].'+str(key)+'='+str(value)+'\")'\n",
      "(Pdb) c\n",
      "> <ipython-input-8-c0b7db0666ab>(47)update_nrn_param()\n",
      "-> for key, value in items:\n",
      "(Pdb) c\n",
      "> <ipython-input-8-c0b7db0666ab>(50)update_nrn_param()\n",
      "-> evalstring='neuron.hoc.execute(\"m_RS_RS_pop[0].'+str(key)+'='+str(value)+'\")'\n",
      "(Pdb) c\n",
      "> <ipython-input-8-c0b7db0666ab>(47)update_nrn_param()\n",
      "-> for key, value in items:\n",
      "(Pdb) c\n",
      "> <ipython-input-8-c0b7db0666ab>(50)update_nrn_param()\n",
      "-> evalstring='neuron.hoc.execute(\"m_RS_RS_pop[0].'+str(key)+'='+str(value)+'\")'\n",
      "(Pdb) c\n",
      "> <ipython-input-8-c0b7db0666ab>(47)update_nrn_param()\n",
      "-> for key, value in items:\n",
      "(Pdb) c\n",
      "> <ipython-input-8-c0b7db0666ab>(50)update_nrn_param()\n",
      "-> evalstring='neuron.hoc.execute(\"m_RS_RS_pop[0].'+str(key)+'='+str(value)+'\")'\n",
      "(Pdb) c\n"
     ]
    }
   ],
   "source": [
    "\n",
    "from neuroml import nml\n",
    "from pyneuroml import pynml\n",
    "\n",
    "\n",
    "\n",
    "def init_nrn_model():#do this once only.\n",
    "    '''\n",
    "    Take a declarative model description, and convert it into an implementation, stored in a pyhoc file.\n",
    "    import the pyhoc file thus dragging the neuron variables into memory/python name space.\n",
    "    Since this only happens once outside of the optimization loop its a tolerable performance hit.\n",
    "    '''\n",
    "    #could this be a shorter root to NeuroML2/LEMS_2007One.xml saving the user from needing to supply it given NeuroML2 may already be installed?\n",
    "    #izc=nml.nml.Izhikevich2007Cell\n",
    "    IZHIKEVICH_PATH = os.getcwd()\n",
    "    LEMS_MODEL_PATH = os.path.join(IZHIKEVICH_PATH,'NeuroML2/LEMS_2007One.xml')                        \n",
    "    # github.com/OpenSourceBrain/IzhikevichModel.\n",
    "    DEFAULTS={}\n",
    "    DEFAULTS['v']=True\n",
    "    print('a')\n",
    "    pynml.run_lems_with_jneuroml_neuron(LEMS_MODEL_PATH, \n",
    "                                      skip_run=False,\n",
    "                                      nogui=False, \n",
    "                                      load_saved_data=False, \n",
    "                                      plot=False, \n",
    "                                      show_plot_already=False, \n",
    "                                      exec_in_dir = \".\",\n",
    "                                      only_generate_scripts = True,\n",
    "                                      verbose=DEFAULTS['v'],\n",
    "                                      exit_on_fail = True)\n",
    "                                      \n",
    "    print('b')\n",
    "\n",
    "\n",
    "print('c')    \n",
    "\n",
    "\n",
    "def update_nrn_param(param_dict):\n",
    "    #TODO find out the python3 syntax for dereferencing key value pairs.\n",
    "    #Below syntax is stupid, but how to just get key generically without for knowledge of its name and without iterating?\n",
    "    items=[ (key, value) for key,value in param_dict.items() ]\n",
    "    #values=[ value for value in param_dict.values() ]\n",
    "    #for \n",
    "    ##print(key)\n",
    "    #print(value)\n",
    "    pdb.set_trace()\n",
    "    for key, value in items:\n",
    "    \n",
    "       evalstring='neuron.hoc.execute(\"m_RS_RS_pop[0].'+str(key)+'='+str(value)+'\")'\n",
    "       eval(evalstring)\n",
    "    neuron.hoc.execute('forall{ psection() }')\n",
    "\n",
    "init_nrn_model()\n",
    "\n",
    "from NeuroML2 import LEMS_2007One_nrn \n",
    "neuron.load_mechanisms(os.getcwd()+'/NeuroML2')    \n",
    "from NeuroML2.LEMS_2007One_nrn import NeuronSimulation\n",
    "\n",
    "\n",
    "ns = NeuronSimulation(tstop=1600, dt=0.0025)\n",
    "\n",
    "\n",
    "neuron.hoc.execute('forall{ psection() }')\n",
    "neuron.psection(neuron.nrn.Section())\n",
    "param_dict={}\n",
    "for vr in np.linspace(-75,-50,6):\n",
    "    param_dict['vr']=vr               \n",
    "    update_nrn_param(param_dict)\n"
   ]
  },
  {
   "cell_type": "code",
   "execution_count": 10,
   "metadata": {
    "collapsed": true
   },
   "outputs": [],
   "source": [
    "\n",
    "for i,a in enumerate(np.linspace(0.015,0.045,7)):\n",
    "    for j,b in enumerate(np.linspace(-3.5,-0.5,7)):\n",
    "        param_dict={}#Very important to redeclare dictionary or badness.\n",
    "        param_dict['vr']=vr\n",
    "\n",
    "        param_dict['a']=str(a) \n",
    "        param_dict['b']=str(b)               \n",
    "        param_dict['C']=str(150)\n",
    "        param_dict['k']=str(0.70) \n",
    "        param_dict['vpeak']=str(45)      \n",
    "        "
   ]
  },
  {
   "cell_type": "markdown",
   "metadata": {},
   "source": [
    "# 1.\n",
    "\n",
    "As a once off, translate the neuroml file LEMS_2007One.xml to a NEURON simulation in a python file.\n",
    "# 2.\n",
    "\n",
    "Loads the contents of the file into memory (initializes the model).\n",
    "# 3.\n",
    "\n",
    "Provides a way of updating the model parameters (but not yet the stimulation protocol).\n",
    "\n",
    "So its just a matter of working this into your stubs in the OOP framework, and also providing the stimulation protocal.\n",
    "\n",
    "Also it would be nice if it cached the nml->pyhoc conversion such that it only has to do this once ever. I will try to borrow from your latest code that does this with the allensdk related nwb files."
   ]
  },
  {
   "cell_type": "code",
   "execution_count": null,
   "metadata": {
    "collapsed": false
   },
   "outputs": [],
   "source": [
    "\n"
   ]
  },
  {
   "cell_type": "markdown",
   "metadata": {},
   "source": [
    "\n",
    "# 4 \n",
    "Provide a way of parameter sweeping using dictionary arguments:\n",
    "\n",
    "Weirdly even when running this notebook NEURON stdout goes through the terminal this notebook is launched at.\n",
    "So you will see neuron variables update in the terminal but not here."
   ]
  },
  {
   "cell_type": "code",
   "execution_count": 11,
   "metadata": {
    "collapsed": false
   },
   "outputs": [
    {
     "name": "stdout",
     "output_type": "stream",
     "text": [
      "> <ipython-input-8-c0b7db0666ab>(47)update_nrn_param()\n",
      "-> for key, value in items:\n",
      "(Pdb) c\n",
      "> <ipython-input-8-c0b7db0666ab>(50)update_nrn_param()\n",
      "-> evalstring='neuron.hoc.execute(\"m_RS_RS_pop[0].'+str(key)+'='+str(value)+'\")'\n",
      "(Pdb) c\n",
      "> <ipython-input-8-c0b7db0666ab>(47)update_nrn_param()\n",
      "-> for key, value in items:\n",
      "(Pdb) c\n",
      "> <ipython-input-8-c0b7db0666ab>(50)update_nrn_param()\n",
      "-> evalstring='neuron.hoc.execute(\"m_RS_RS_pop[0].'+str(key)+'='+str(value)+'\")'\n",
      "(Pdb) c\n",
      "> <ipython-input-8-c0b7db0666ab>(47)update_nrn_param()\n",
      "-> for key, value in items:\n",
      "(Pdb) c\n",
      "> <ipython-input-8-c0b7db0666ab>(50)update_nrn_param()\n",
      "-> evalstring='neuron.hoc.execute(\"m_RS_RS_pop[0].'+str(key)+'='+str(value)+'\")'\n",
      "(Pdb) c\n",
      "> <ipython-input-8-c0b7db0666ab>(47)update_nrn_param()\n",
      "-> for key, value in items:\n",
      "(Pdb) c\n",
      "> <ipython-input-8-c0b7db0666ab>(50)update_nrn_param()\n",
      "-> evalstring='neuron.hoc.execute(\"m_RS_RS_pop[0].'+str(key)+'='+str(value)+'\")'\n",
      "(Pdb) \n",
      "(Pdb) c\n",
      "> <ipython-input-8-c0b7db0666ab>(47)update_nrn_param()\n",
      "-> for key, value in items:\n",
      "(Pdb) c\n",
      "> <ipython-input-8-c0b7db0666ab>(50)update_nrn_param()\n",
      "-> evalstring='neuron.hoc.execute(\"m_RS_RS_pop[0].'+str(key)+'='+str(value)+'\")'\n",
      "(Pdb) c\n",
      "> <ipython-input-8-c0b7db0666ab>(47)update_nrn_param()\n",
      "-> for key, value in items:\n",
      "(Pdb) c\n",
      "> <ipython-input-8-c0b7db0666ab>(50)update_nrn_param()\n",
      "-> evalstring='neuron.hoc.execute(\"m_RS_RS_pop[0].'+str(key)+'='+str(value)+'\")'\n",
      "(Pdb) c\n"
     ]
    }
   ],
   "source": [
    "\n",
    "\n",
    "param_dict={}\n",
    "for vr in np.linspace(-75,-50,6):\n",
    "    param_dict['vr']=vr               \n",
    "    update_nrn_param(param_dict)\n",
    "    \n"
   ]
  },
  {
   "cell_type": "code",
   "execution_count": null,
   "metadata": {
    "collapsed": false
   },
   "outputs": [
    {
     "name": "stdout",
     "output_type": "stream",
     "text": [
      "> <ipython-input-8-c0b7db0666ab>(47)update_nrn_param()\n",
      "-> for key, value in items:\n",
      "(Pdb) c\n",
      "> <ipython-input-8-c0b7db0666ab>(50)update_nrn_param()\n",
      "-> evalstring='neuron.hoc.execute(\"m_RS_RS_pop[0].'+str(key)+'='+str(value)+'\")'\n",
      "(Pdb) c\n",
      "> <ipython-input-8-c0b7db0666ab>(48)update_nrn_param()\n",
      "-> pdb.set_trace()\n",
      "(Pdb) c\n",
      "> <ipython-input-8-c0b7db0666ab>(50)update_nrn_param()\n",
      "-> evalstring='neuron.hoc.execute(\"m_RS_RS_pop[0].'+str(key)+'='+str(value)+'\")'\n",
      "(Pdb) c\n",
      "> <ipython-input-8-c0b7db0666ab>(48)update_nrn_param()\n",
      "-> pdb.set_trace()\n",
      "(Pdb) c\n",
      "> <ipython-input-8-c0b7db0666ab>(50)update_nrn_param()\n",
      "-> evalstring='neuron.hoc.execute(\"m_RS_RS_pop[0].'+str(key)+'='+str(value)+'\")'\n",
      "(Pdb) c\n",
      "> <ipython-input-8-c0b7db0666ab>(48)update_nrn_param()\n",
      "-> pdb.set_trace()\n",
      "(Pdb) c\n",
      "> <ipython-input-8-c0b7db0666ab>(47)update_nrn_param()\n",
      "-> for key, value in items:\n",
      "(Pdb) c\n",
      "> <ipython-input-8-c0b7db0666ab>(50)update_nrn_param()\n",
      "-> evalstring='neuron.hoc.execute(\"m_RS_RS_pop[0].'+str(key)+'='+str(value)+'\")'\n",
      "(Pdb) c\n",
      "> <ipython-input-8-c0b7db0666ab>(48)update_nrn_param()\n",
      "-> pdb.set_trace()\n"
     ]
    }
   ],
   "source": [
    "\n",
    "for i,a in enumerate(np.linspace(0.015,0.045,7)):\n",
    "    for j,b in enumerate(np.linspace(-3.5,-0.5,7)):\n",
    "        param_dict={}#Very important to redeclare dictionary or badness.\n",
    "        param_dict['vr']=vr\n",
    "\n",
    "        param_dict['a']=str(a) \n",
    "        param_dict['b']=str(b)               \n",
    "        param_dict['C']=str(150)\n",
    "        param_dict['k']=str(0.70) \n",
    "        param_dict['vpeak']=str(45)\n",
    "        update_nrn_param(param_dict)"
   ]
  },
  {
   "cell_type": "code",
   "execution_count": null,
   "metadata": {
    "collapsed": false
   },
   "outputs": [],
   "source": [
    "print(dir(neuron.hoc))\n",
    "neuron.hoc.execute('forall{ psection() }')\n",
    "#neuron.psection(neuron.nrn.Section.HocObject())\n",
    "evalstring='neuron.hoc.execute(\"m_RS_RS_pop.'+str('vr')+'='+str('-75')+'\")'\n",
    "\n",
    "eval(evalstring)\n",
    "\n",
    "evalstring='neuron.hoc.execute(\"allobjectvars()\")'\n",
    "\n",
    "eval(evalstring)\n",
    "print(neuron.hoc.hoc_ac())\n",
    "#print(p0)"
   ]
  },
  {
   "cell_type": "code",
   "execution_count": null,
   "metadata": {
    "collapsed": false
   },
   "outputs": [],
   "source": [
    "# This example is from https://github.com/OpenSourceBrain/IzhikevichModel.\n",
    "IZHIKEVICH_PATH = os.path.join('/home/mnt/osb/IzhikevichModel') # Replace this the path to your \n",
    "                                                                       # working copy of \n",
    "                                                                       # github.com/OpenSourceBrain/IzhikevichModel.  \n",
    "IZHIKEVICH_PATH = os.getcwd()\n",
    "LEMS_MODEL_PATH = os.path.join(IZHIKEVICH_PATH,'NeuroML2/LEMS_2007One.xml')"
   ]
  },
  {
   "cell_type": "code",
   "execution_count": null,
   "metadata": {
    "collapsed": false
   },
   "outputs": [],
   "source": [
    "import quantities as pq\n",
    "from neuronunit import tests as nu_tests, neuroelectro\n",
    "neuron = {'nlex_id': 'nifext_50'} # Layer V pyramidal cell\n",
    "tests = []\n",
    "\n",
    "dataset_id = 354190013  # Internal ID that AIBS uses for a particular Scnn1a-Tg2-Cre \n",
    "                        # Primary visual area, layer 5 neuron.\n",
    "observation = aibs.get_observation(dataset_id,'rheobase')\n",
    "tests += [nu_tests.RheobaseTest(observation=observation)]\n",
    "    \n",
    "test_class_params = [(nu_tests.InputResistanceTest,None),\n",
    "                     (nu_tests.TimeConstantTest,None),\n",
    "                     (nu_tests.CapacitanceTest,None),\n",
    "                     (nu_tests.RestingPotentialTest,None),\n",
    "                         (nu_tests.InjectedCurrentAPWidthTest,None),\n",
    "                         (nu_tests.InjectedCurrentAPAmplitudeTest,None),\n",
    "                         (nu_tests.InjectedCurrentAPThresholdTest,None)]\n",
    "\n",
    "for cls,params in test_class_params:\n",
    "    observation = cls.neuroelectro_summary_observation(neuron)\n",
    "    tests += [cls(observation,params=params)]\n",
    "    \n",
    "def update_amplitude(test,tests,score):\n",
    "    rheobase = score.prediction['value']\n",
    "    for i in [5,6,7]:\n",
    "        print(tests[i])\n",
    "        # Set current injection to just suprathreshold\n",
    "        tests[i].params['injected_square_current']['amplitude'] = rheobase*1.01 \n",
    "    \n",
    "hooks = {tests[0]:{'f':update_amplitude}}\n",
    "suite = sciunit.TestSuite(\"vm_suite\",tests,hooks=hooks)"
   ]
  },
  {
   "cell_type": "code",
   "execution_count": null,
   "metadata": {
    "collapsed": false
   },
   "outputs": [],
   "source": [
    "model = ReducedModel(LEMS_MODEL_PATH,name='vanilla')\n",
    "suite.judge(model)"
   ]
  },
  {
   "cell_type": "code",
   "execution_count": null,
   "metadata": {
    "collapsed": false
   },
   "outputs": [],
   "source": [
    "models = []\n",
    "for vr in np.linspace(-75,-50,6):\n",
    "    model = ReducedModel(LEMS_MODEL_PATH, \n",
    "                         name='V_rest=%dmV' % vr, \n",
    "                         attrs={'//izhikevich2007Cell':\n",
    "                                    {'vr':'%d mV' % vr}\n",
    "                               })\n",
    "    #model.skip_run = True\n",
    "    models.append(model)\n",
    "suite.set_verbose(False) # Turn off most print statements.  \n",
    "score_matrix = suite.judge(models)\n",
    "score_matrix.show_mean = True\n",
    "score_matrix.sortable = True\n",
    "score_matrix"
   ]
  },
  {
   "cell_type": "code",
   "execution_count": null,
   "metadata": {
    "collapsed": false
   },
   "outputs": [],
   "source": [
    "score_matrix.view()"
   ]
  },
  {
   "cell_type": "code",
   "execution_count": null,
   "metadata": {
    "collapsed": false
   },
   "outputs": [],
   "source": [
    "import matplotlib as mpl\n",
    "mpl.rcParams['font.size'] = 20\n",
    "vm = score_matrix[tests[3]][4].related_data['vm'].rescale('mV') # Plot the rheobase current (test 3) \n",
    "                                                                # from v_rest = -55 mV (model 4)\n",
    "ax = plt.gca()\n",
    "ax.plot(vm.times,vm)\n",
    "y_min = float(vm.min()-5.0*pq.mV)\n",
    "y_max = float(vm.max()+5.0*pq.mV)\n",
    "ax.set_xlim(0,1.6)\n",
    "ax.set_ylim(y_min,y_max)\n",
    "ax.set_xlabel('Time (s)',size=24)\n",
    "ax.set_ylabel('Vm (mV)',size=24);\n",
    "plt.tight_layout()"
   ]
  },
  {
   "cell_type": "code",
   "execution_count": null,
   "metadata": {
    "collapsed": false,
    "scrolled": false
   },
   "outputs": [],
   "source": [
    "\"\"\"\n",
    "for a in np.linspace(0.015,0.045,2):\n",
    "    for b in np.linspace(-3.5,-0.5,2):\n",
    "        for C in np.linspace(50,150,3):\n",
    "            for k in np.linspace(0.4,1.0,3):\n",
    "                model = ReducedModel(LEMS_MODEL_PATH, \n",
    "                             name='a=%.3fperms_b=%.1fnS_C=%dpF_k=%.2f' % (a,b,C,k), \n",
    "                             attrs={'//izhikevich2007Cell':\n",
    "                                        {'b':'%.1f nS' % b,\n",
    "                                         'a':'%.3f per_ms' % a,\n",
    "                                         'C':'%d pF' % C,\n",
    "                                         'k':'%.2f nS_per_mV' % k,\n",
    "                                         'vr':'-68 mV',\n",
    "                                         'vpeak':'45 mV'}\n",
    "                                   })\n",
    "                #model.skip_run = True\n",
    "                models3.append(model)\n",
    "score_matrix3 = suite.judge(models3, verbose=False)\n",
    "score_matrix3.show_mean = True\n",
    "score_matrix3.sortable = True\n",
    "score_matrix3\n",
    "\"\"\";"
   ]
  },
  {
   "cell_type": "code",
   "execution_count": null,
   "metadata": {
    "collapsed": false
   },
   "outputs": [],
   "source": [
    "models2 = []\n",
    "for i,a in enumerate(np.linspace(0.015,0.045,7)):\n",
    "    for j,b in enumerate(np.linspace(-3.5,-0.5,7)):\n",
    "        model = ReducedModel(LEMS_MODEL_PATH, \n",
    "                     name='a=%.3fperms_b=%.1fnS' % (a,b), \n",
    "                     attrs={'//izhikevich2007Cell':\n",
    "                                {'b':'%.1f nS' % b,\n",
    "                                 'a':'%.3f per_ms' % a,\n",
    "                                 'C':'150 pF',\n",
    "                                 'k':'0.70 nS_per_mV',\n",
    "                                 'vr':'-68 mV',\n",
    "                                 'vpeak':'45 mV'}\n",
    "                           })\n",
    "        #model.skip_run = True\n",
    "        models2.append(model)\n",
    "score_matrix2 = suite.judge(models2)\n",
    "score_matrix2.show_mean = True\n",
    "score_matrix2.sortable = True\n",
    "score_matrix2.view()"
   ]
  },
  {
   "cell_type": "code",
   "execution_count": null,
   "metadata": {
    "collapsed": false
   },
   "outputs": [],
   "source": [
    "import matplotlib as mpl\n",
    "mpl.rcParams['font.size'] = 18\n",
    "heatmap = np.zeros((7,7))\n",
    "for i,a in enumerate(np.linspace(0.015,0.045,7)):\n",
    "    for j,b in enumerate(np.linspace(-3.5,-0.5,7)):\n",
    "        for model in score_matrix2.models:\n",
    "            if model.name == 'a=%.3fperms_b=%.1fnS' % (a,b):\n",
    "                heatmap[i,j] = 20*(score_matrix2[model].mean() - 0.8070)+0.8070#[tests[0]].score\n",
    "#heatmap[2,0] = np.nan\n",
    "plt.pcolor(heatmap,cmap='magma')\n",
    "plt.yticks(np.arange(7)+0.5,np.linspace(0.015,0.045,7))\n",
    "plt.ylabel('Izhikevich Parameter $a$')\n",
    "plt.xticks(np.arange(7)+0.5,np.linspace(-3.5,-0.5,7))\n",
    "plt.xlabel('Izhikevich Parameter $b$')\n",
    "cbar = plt.colorbar()\n",
    "cbar.set_label('Mean Test Score',size=15)\n",
    "cbar.ax.tick_params(labelsize=15) \n",
    "plt.tight_layout()\n",
    "np.save('heatmap',heatmap)"
   ]
  },
  {
   "cell_type": "code",
   "execution_count": null,
   "metadata": {
    "collapsed": false
   },
   "outputs": [],
   "source": [
    "\"\"\"\n",
    "from neuronunit.tests.dynamics import TFRTypeTest,BurstinessTest\n",
    "\n",
    "is_bursty = BurstinessTest(observation={'cv_mean':1.5, 'cv_std':1.0})\n",
    "score_matrix2 = is_bursty.judge(models)\n",
    "score_matrix2\n",
    "\"\"\";"
   ]
  },
  {
   "cell_type": "code",
   "execution_count": null,
   "metadata": {
    "collapsed": false
   },
   "outputs": [],
   "source": [
    "\"\"\"\n",
    "#rickpy.refresh_objects(locals(),modules=None)\n",
    "rickpy.refresh_objects(locals().copy(),modules=['sciunit','neuronunit'])\n",
    "isinstance(tests[0],sciunit.Test) # Should print True if successful\n",
    "\"\"\";"
   ]
  }
 ],
 "metadata": {
  "kernelspec": {
   "display_name": "Python 3",
   "language": "python",
   "name": "python3"
  },
  "language_info": {
   "codemirror_mode": {
    "name": "ipython",
    "version": 3
   },
   "file_extension": ".py",
   "mimetype": "text/x-python",
   "name": "python",
   "nbconvert_exporter": "python",
   "pygments_lexer": "ipython3",
   "version": "3.5.2"
  }
 },
 "nbformat": 4,
 "nbformat_minor": 0
}
